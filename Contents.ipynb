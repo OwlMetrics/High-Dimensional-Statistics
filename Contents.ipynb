{
 "cells": [
  {
   "cell_type": "markdown",
   "metadata": {},
   "source": [
    "# High Dimensional Statistics\n",
    "\n",
    "***\n",
    "\n",
    "> ### [**`1. Concentration Inequalities`**](https://nbviewer.jupyter.org/github/OwlMetrics/High-Dimensional-Statistics/blob/master/concentration.pdf)\n",
    "\n",
    "> ### **`2. Random Vectors and Random Matrices`**\n",
    "\n",
    "> ### **`3. High Dimensional Linear Regression Models`**"
   ]
  }
 ],
 "metadata": {
  "kernelspec": {
   "display_name": "Python 3",
   "language": "python",
   "name": "python3"
  },
  "language_info": {
   "codemirror_mode": {
    "name": "ipython",
    "version": 3
   },
   "file_extension": ".py",
   "mimetype": "text/x-python",
   "name": "python",
   "nbconvert_exporter": "python",
   "pygments_lexer": "ipython3",
   "version": "3.6.3"
  }
 },
 "nbformat": 4,
 "nbformat_minor": 2
}
